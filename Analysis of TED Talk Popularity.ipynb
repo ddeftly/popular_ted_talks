{
 "cells": [
  {
   "cell_type": "markdown",
   "metadata": {},
   "source": [
    "## Analysis of TED Talk Popularity\n",
    "Started in 1984 as a technology and design conference, TED (Technology, Entertainment, Design) has erupted in popularity within the last decade due to the proliferation of TED Talks. Nowadays, these presentations cover a variety of topics beyond tech and design, ranging from physics to sociology to politics. TED launched TED.com, a website that now hosts thousands of TED talks available for free viewing. In fact, by 2012, TED reached its billionth video view, a number that has no doubt continued to grow.\n",
    "\n",
    "However, not all TED Talks are equally popular. Previous data analyses suggest that \"those given by academics tend to be watched more online while art and design videos tend to be watched less than average\" (Wikipedia). The purpose of this analysis is to investigate which TED Talks receive the most attention, both in the form of views and comments. To this end, I'll be analyzing a dataset containing information about all audio-video recordings of TED Talks uploaded to the official TED website through September 21, 2017. \n",
    "\n",
    "I plan to investigate the following:\n",
    "* Which are the most viewed TED Talks of all time?\n",
    "* Which talks generate the most discussion in terms of the number of comments made? Is there a potential correlation between how many views a TED Talk receives and the number of comments are contributed?\n",
    "\n",
    "#### Importing the Data"
   ]
  },
  {
   "cell_type": "code",
   "execution_count": 1,
   "metadata": {
    "collapsed": true
   },
   "outputs": [],
   "source": [
    "# Import and investigate the dataset\n",
    "import pandas as pd\n",
    "import numpy as np\n",
    "import matplotlib.pyplot as plt\n",
    "%matplotlib inline\n",
    "ted_talks = pd.read_csv('ted_main.csv')"
   ]
  },
  {
   "cell_type": "markdown",
   "metadata": {},
   "source": [
    "#### Cleaning the Data\n",
    "\n",
    "Before performing any analyses, we need to ensure that our data doesn't contain any null values that can cause errors. Since we only plan on analyzing data from the 'Views' and 'Comments' columns, we need only check the data there for missing information. "
   ]
  },
  {
   "cell_type": "code",
   "execution_count": 50,
   "metadata": {},
   "outputs": [
    {
     "name": "stdout",
     "output_type": "stream",
     "text": [
      "0\n",
      "0\n"
     ]
    }
   ],
   "source": [
    "# Finding missing values in the 'views' column.\n",
    "views_null = pd.isnull(ted_talks['views'])\n",
    "print(len(ted_talks['views'][views_null]))\n",
    "\n",
    "# Find missing values in the 'comments' column.\n",
    "comments_null = pd.isnull(ted_talks['comments'])\n",
    "print(len(ted_talks['comments'][comments_null]))"
   ]
  },
  {
   "cell_type": "markdown",
   "metadata": {},
   "source": [
    "Looks like both columns are 'null value free,' which means we won't have to do any further cleaning. Let's go ahead and perform some general statiscal analyses on the dataset to see if we can glean any basic insights."
   ]
  },
  {
   "cell_type": "code",
   "execution_count": 2,
   "metadata": {
    "scrolled": true
   },
   "outputs": [
    {
     "name": "stdout",
     "output_type": "stream",
     "text": [
      "Index(['comments', 'description', 'duration', 'event', 'film_date',\n",
      "       'languages', 'main_speaker', 'name', 'num_speaker', 'published_date',\n",
      "       'ratings', 'related_talks', 'speaker_occupation', 'tags', 'title',\n",
      "       'url', 'views'],\n",
      "      dtype='object')\n",
      "(2550, 17)\n",
      "          comments     duration     film_date    languages  num_speaker  \\\n",
      "count  2550.000000  2550.000000  2.550000e+03  2550.000000  2550.000000   \n",
      "mean    191.562353   826.510196  1.321928e+09    27.326275     1.028235   \n",
      "std     282.315223   374.009138  1.197391e+08     9.563452     0.207705   \n",
      "min       2.000000   135.000000  7.464960e+07     0.000000     1.000000   \n",
      "25%      63.000000   577.000000  1.257466e+09    23.000000     1.000000   \n",
      "50%     118.000000   848.000000  1.333238e+09    28.000000     1.000000   \n",
      "75%     221.750000  1046.750000  1.412964e+09    33.000000     1.000000   \n",
      "max    6404.000000  5256.000000  1.503792e+09    72.000000     5.000000   \n",
      "\n",
      "       published_date         views  \n",
      "count    2.550000e+03  2.550000e+03  \n",
      "mean     1.343525e+09  1.698297e+06  \n",
      "std      9.464009e+07  2.498479e+06  \n",
      "min      1.151367e+09  5.044300e+04  \n",
      "25%      1.268463e+09  7.557928e+05  \n",
      "50%      1.340935e+09  1.124524e+06  \n",
      "75%      1.423432e+09  1.700760e+06  \n",
      "max      1.506092e+09  4.722711e+07  \n"
     ]
    }
   ],
   "source": [
    "print(ted_talks.columns)\n",
    "print(ted_talks.shape)\n",
    "print(ted_talks.describe())"
   ]
  },
  {
   "cell_type": "markdown",
   "metadata": {},
   "source": [
    "It appears that the average TED Talk receives an average of 1.69 million views. Additionally, the 75th percentile lies at 1.7 million views, while the most popular TED Talk has 47.2 million views. The noticeable disparity between the 75th percentile and the maximum suggests the presence of outliers. This can be confirmed via a histogram and boxplot.\n",
    "\n",
    "We see a similar trend with the number of comments a TED Talk receives. The average TED Talk has about 192 published comments, and there is a noticeable disparity between the 75th percentile (222 comments) and the maximum (6404 comments). Again, this suggests the presence of outliers.\n",
    "\n",
    "#### Question #1: Which are the most viewed TED Talks of all time?"
   ]
  },
  {
   "cell_type": "code",
   "execution_count": 62,
   "metadata": {},
   "outputs": [
    {
     "data": {
      "image/png": "[encoded data removed]",
      "text/plain": [
       "<matplotlib.figure.Figure at 0x1f1d8934f98>"
      ]
     },
     "metadata": {},
     "output_type": "display_data"
    },
    {
     "name": "stdout",
     "output_type": "stream",
     "text": [
      "1698297.4815686275\n",
      "1124523.5\n"
     ]
    }
   ],
   "source": [
    "# Create a histogram and box-and-whisker plot to visualize the distribution of TED Talk views.\n",
    "ted_talks['views_adj'] = views_adj = ted_talks['views']/1000000\n",
    "fig = plt.figure(figsize=(20,7))\n",
    "\n",
    "ax1 = fig.add_subplot(1,2,1)\n",
    "ax1.hist(ted_talks['views_adj'],bins=100,range=(0,40))\n",
    "ax1.set_title('Distribution of TED Talk Views')\n",
    "ax1.set_xlabel('Number of views per video (millions)')\n",
    "ax1.set_ylabel('Frequency')\n",
    "\n",
    "ax2 = fig.add_subplot(1,2,2)\n",
    "ax2.boxplot(ted_talks['views_adj'])\n",
    "ax2.set_title('TED Talks: Number of Views')\n",
    "ax2.set_xlabel('TED Talks')\n",
    "ax2.set_ylabel('Number of views per video (millions)')\n",
    "ax2.set_xticklabels('')\n",
    "ax2.set_ylim(0,50)\n",
    "y_tick_positions = np.arange(0,50,5)\n",
    "ax2.set_yticks(y_tick_positions)\n",
    "\n",
    "plt.show()\n",
    "\n",
    "print(np.mean(ted_talks['views']))\n",
    "print(np.median(ted_talks['views']))"
   ]
  },
  {
   "cell_type": "markdown",
   "metadata": {},
   "source": [
    "Our histogram and boxplot confirm that the the distribution of views per TED Talk is skewed right; there are several outliers that deviate from the mean. Because the mean is sensitive to outliers, the median (1.12 million views per video) is a more appropriate representation of the distribution than the mean (1.70 million views per video). This will be helpful to keep in mind as we continue analysis of the dataset. Now, let's address the question directly."
   ]
  },
  {
   "cell_type": "code",
   "execution_count": 119,
   "metadata": {},
   "outputs": [
    {
     "data": {
      "text/html": [
       "<div>\n",
       "<style>\n",
       "    .dataframe thead tr:only-child th {\n",
       "        text-align: right;\n",
       "    }\n",
       "\n",
       "    .dataframe thead th {\n",
       "        text-align: left;\n",
       "    }\n",
       "\n",
       "    .dataframe tbody tr th {\n",
       "        vertical-align: top;\n",
       "    }\n",
       "</style>\n",
       "<table border=\"1\" class=\"dataframe\">\n",
       "  <thead>\n",
       "    <tr style=\"text-align: right;\">\n",
       "      <th></th>\n",
       "      <th>main_speaker</th>\n",
       "      <th>name</th>\n",
       "      <th>tags</th>\n",
       "      <th>comments</th>\n",
       "      <th>views</th>\n",
       "      <th>Outlier?</th>\n",
       "    </tr>\n",
       "  </thead>\n",
       "  <tbody>\n",
       "    <tr>\n",
       "      <th>0</th>\n",
       "      <td>Ken Robinson</td>\n",
       "      <td>Ken Robinson: Do schools kill creativity?</td>\n",
       "      <td>['children', 'creativity', 'culture', 'dance',...</td>\n",
       "      <td>4553</td>\n",
       "      <td>47227110</td>\n",
       "      <td>Yes, by 4.4E+07</td>\n",
       "    </tr>\n",
       "    <tr>\n",
       "      <th>1346</th>\n",
       "      <td>Amy Cuddy</td>\n",
       "      <td>Amy Cuddy: Your body language may shape who yo...</td>\n",
       "      <td>['body language', 'brain', 'business', 'psycho...</td>\n",
       "      <td>2290</td>\n",
       "      <td>43155405</td>\n",
       "      <td>Yes, by 4.0E+07</td>\n",
       "    </tr>\n",
       "    <tr>\n",
       "      <th>677</th>\n",
       "      <td>Simon Sinek</td>\n",
       "      <td>Simon Sinek: How great leaders inspire action</td>\n",
       "      <td>['TEDx', 'business', 'entrepreneur', 'leadersh...</td>\n",
       "      <td>1930</td>\n",
       "      <td>34309432</td>\n",
       "      <td>Yes, by 3.1E+07</td>\n",
       "    </tr>\n",
       "    <tr>\n",
       "      <th>837</th>\n",
       "      <td>Brené Brown</td>\n",
       "      <td>Brené Brown: The power of vulnerability</td>\n",
       "      <td>['TEDx', 'communication', 'culture', 'depressi...</td>\n",
       "      <td>1927</td>\n",
       "      <td>31168150</td>\n",
       "      <td>Yes, by 2.8E+07</td>\n",
       "    </tr>\n",
       "    <tr>\n",
       "      <th>452</th>\n",
       "      <td>Mary Roach</td>\n",
       "      <td>Mary Roach: 10 things you didn't know about or...</td>\n",
       "      <td>['books', 'culture', 'history', 'humor', 'scie...</td>\n",
       "      <td>354</td>\n",
       "      <td>22270883</td>\n",
       "      <td>Yes, by 1.9E+07</td>\n",
       "    </tr>\n",
       "  </tbody>\n",
       "</table>\n",
       "</div>"
      ],
      "text/plain": [
       "      main_speaker                                               name  \\\n",
       "0     Ken Robinson          Ken Robinson: Do schools kill creativity?   \n",
       "1346     Amy Cuddy  Amy Cuddy: Your body language may shape who yo...   \n",
       "677    Simon Sinek      Simon Sinek: How great leaders inspire action   \n",
       "837    Brené Brown            Brené Brown: The power of vulnerability   \n",
       "452     Mary Roach  Mary Roach: 10 things you didn't know about or...   \n",
       "\n",
       "                                                   tags  comments     views  \\\n",
       "0     ['children', 'creativity', 'culture', 'dance',...      4553  47227110   \n",
       "1346  ['body language', 'brain', 'business', 'psycho...      2290  43155405   \n",
       "677   ['TEDx', 'business', 'entrepreneur', 'leadersh...      1930  34309432   \n",
       "837   ['TEDx', 'communication', 'culture', 'depressi...      1927  31168150   \n",
       "452   ['books', 'culture', 'history', 'humor', 'scie...       354  22270883   \n",
       "\n",
       "             Outlier?  \n",
       "0     Yes, by 4.4E+07  \n",
       "1346  Yes, by 4.0E+07  \n",
       "677   Yes, by 3.1E+07  \n",
       "837   Yes, by 2.8E+07  \n",
       "452   Yes, by 1.9E+07  "
      ]
     },
     "execution_count": 119,
     "metadata": {},
     "output_type": "execute_result"
    }
   ],
   "source": [
    "# Re-sort the dataset based on number of views.\n",
    "popular_talks = ted_talks.sort_values(by='views', ascending=False)[['main_speaker','name','tags','comments','views']]\n",
    "popular_talks.reset_index(drop=True)\n",
    "\n",
    "# We can also create a function to test whether each of these talks are considered outliers and by how much (using the\n",
    "# standard IQR outlier test).\n",
    "\n",
    "def outliertest(value, col_name):\n",
    "    from decimal import Decimal\n",
    "    \n",
    "    upper_q = np.percentile(ted_talks[col_name],75)\n",
    "    IQR = upper_q - np.percentile(ted_talks[col_name],25)\n",
    "\n",
    "    if value > (upper_q + (1.5*IQR)):\n",
    "        excess = value-(upper_q + (1.5*IQR))\n",
    "        excess_sn = '%.1E' % Decimal(excess)\n",
    "        return 'Yes, by ' + str(excess_sn)\n",
    "    else:\n",
    "        return 'No'\n",
    "    \n",
    "popular_talks['Outlier?'] = popular_talks['views'].apply(outliertest,col_name='views')\n",
    "popular_talks.head(5)"
   ]
  },
  {
   "cell_type": "markdown",
   "metadata": {},
   "source": [
    "After re-sorting our dataset by 'views' and filtering it down to the talk name, main speaker, and tags, we now have the top 5 most viewed TED Talks of all time:\n",
    "    \n",
    "    * \"Do schools kill creativity? by Ken Robinson\n",
    "    * \"Your body language may shape who you are\" by Amy Cuddy\n",
    "    * \"How great leaders inspire action\" by Simon Sinek\n",
    "    * \"The power of vulnerability\" by Brené Brown\n",
    "    * \"10 things you didn't know about orgasm\" by Mary Roach\n",
    "\n",
    "Futhermore, it appears as though the most popular talks receive significantly more views than other TED Talks; even among outliers, their view counts are noticeably high. This implies that these talks are drastically more popular than the average TED Talk. Interestingly, the most viewed TED Talks appear to cover topics involving sociology, psychology, anthropology, more often than technology and business. However, further analysis is necessary to confirm this insight.\n",
    "\n",
    "#### Question #2: Which 'tags' receive the most views? Is there a correlation between subject matter and the number of views a video receives?"
   ]
  },
  {
   "cell_type": "code",
   "execution_count": 63,
   "metadata": {},
   "outputs": [
    {
     "name": "stdout",
     "output_type": "stream",
     "text": [
      "191.56235294117647\n",
      "118.0\n"
     ]
    },
    {
     "data": {
      "image/png": "[encoded data removed]",
      "text/plain": [
       "<matplotlib.figure.Figure at 0x1f1d8251b70>"
      ]
     },
     "metadata": {},
     "output_type": "display_data"
    }
   ],
   "source": [
    "# Create a histogram and box-and-whisker plot to visualize the distribution of TED Talk comments.\n",
    "fig = plt.figure(figsize=(20,7))\n",
    "\n",
    "ax1 = fig.add_subplot(1,2,1)\n",
    "ax1.hist(ted_talks['comments'],bins=100)\n",
    "ax1.set_xlabel('Number of Comments')\n",
    "ax1.set_ylabel('Frequency')\n",
    "ax1.set_title('Distribution of TED Talk Comments')\n",
    "\n",
    "ax2 = fig.add_subplot(1,2,2)\n",
    "ax2.boxplot(ted_talks['comments'])\n",
    "ax2.set_yticks(np.arange(0,6500,500))\n",
    "ax2.set_xticklabels('')\n",
    "ax2.set_xlabel('TED Talks')\n",
    "ax2.set_ylabel('Number of Comments')\n",
    "ax2.set_title('TED Talks: Number of Comments')\n",
    "\n",
    "plt.show\n",
    "\n",
    "print(np.mean(ted_talks['comments']))\n",
    "print(np.median(ted_talks['comments']))"
   ]
  },
  {
   "cell_type": "markdown",
   "metadata": {},
   "source": [
    "As with the distribution of views, the distribution of comments per video seems to somewhat skewed right, and several outliers are presence in our box-and-whisker plot. This suggests that the median (118 comments per video) is a more accurate representation of the distribution than the mean (120 comments per video).\n",
    "\n",
    "Let's see which TED Talks have received the most comments."
   ]
  },
  {
   "cell_type": "code",
   "execution_count": 122,
   "metadata": {},
   "outputs": [
    {
     "data": {
      "text/html": [
       "<div>\n",
       "<style>\n",
       "    .dataframe thead tr:only-child th {\n",
       "        text-align: right;\n",
       "    }\n",
       "\n",
       "    .dataframe thead th {\n",
       "        text-align: left;\n",
       "    }\n",
       "\n",
       "    .dataframe tbody tr th {\n",
       "        vertical-align: top;\n",
       "    }\n",
       "</style>\n",
       "<table border=\"1\" class=\"dataframe\">\n",
       "  <thead>\n",
       "    <tr style=\"text-align: right;\">\n",
       "      <th></th>\n",
       "      <th>main_speaker</th>\n",
       "      <th>name</th>\n",
       "      <th>tags</th>\n",
       "      <th>views</th>\n",
       "      <th>comments</th>\n",
       "      <th>Outlier?</th>\n",
       "    </tr>\n",
       "  </thead>\n",
       "  <tbody>\n",
       "    <tr>\n",
       "      <th>96</th>\n",
       "      <td>Richard Dawkins</td>\n",
       "      <td>Richard Dawkins: Militant atheism</td>\n",
       "      <td>['God', 'atheism', 'culture', 'religion', 'sci...</td>\n",
       "      <td>4374792</td>\n",
       "      <td>6404</td>\n",
       "      <td>Yes, by 5.9E+03</td>\n",
       "    </tr>\n",
       "    <tr>\n",
       "      <th>0</th>\n",
       "      <td>Ken Robinson</td>\n",
       "      <td>Ken Robinson: Do schools kill creativity?</td>\n",
       "      <td>['children', 'creativity', 'culture', 'dance',...</td>\n",
       "      <td>47227110</td>\n",
       "      <td>4553</td>\n",
       "      <td>Yes, by 4.1E+03</td>\n",
       "    </tr>\n",
       "    <tr>\n",
       "      <th>644</th>\n",
       "      <td>Sam Harris</td>\n",
       "      <td>Sam Harris: Science can answer moral questions</td>\n",
       "      <td>['culture', 'evolutionary psychology', 'global...</td>\n",
       "      <td>3433437</td>\n",
       "      <td>3356</td>\n",
       "      <td>Yes, by 2.9E+03</td>\n",
       "    </tr>\n",
       "    <tr>\n",
       "      <th>201</th>\n",
       "      <td>Jill Bolte Taylor</td>\n",
       "      <td>Jill Bolte Taylor: My stroke of insight</td>\n",
       "      <td>['biology', 'brain', 'consciousness', 'global ...</td>\n",
       "      <td>21190883</td>\n",
       "      <td>2877</td>\n",
       "      <td>Yes, by 2.4E+03</td>\n",
       "    </tr>\n",
       "    <tr>\n",
       "      <th>1787</th>\n",
       "      <td>David Chalmers</td>\n",
       "      <td>David Chalmers: How do you explain consciousness?</td>\n",
       "      <td>['brain', 'consciousness', 'neuroscience', 'ph...</td>\n",
       "      <td>2162764</td>\n",
       "      <td>2673</td>\n",
       "      <td>Yes, by 2.2E+03</td>\n",
       "    </tr>\n",
       "  </tbody>\n",
       "</table>\n",
       "</div>"
      ],
      "text/plain": [
       "           main_speaker                                               name  \\\n",
       "96      Richard Dawkins                  Richard Dawkins: Militant atheism   \n",
       "0          Ken Robinson          Ken Robinson: Do schools kill creativity?   \n",
       "644          Sam Harris     Sam Harris: Science can answer moral questions   \n",
       "201   Jill Bolte Taylor            Jill Bolte Taylor: My stroke of insight   \n",
       "1787     David Chalmers  David Chalmers: How do you explain consciousness?   \n",
       "\n",
       "                                                   tags     views  comments  \\\n",
       "96    ['God', 'atheism', 'culture', 'religion', 'sci...   4374792      6404   \n",
       "0     ['children', 'creativity', 'culture', 'dance',...  47227110      4553   \n",
       "644   ['culture', 'evolutionary psychology', 'global...   3433437      3356   \n",
       "201   ['biology', 'brain', 'consciousness', 'global ...  21190883      2877   \n",
       "1787  ['brain', 'consciousness', 'neuroscience', 'ph...   2162764      2673   \n",
       "\n",
       "             Outlier?  \n",
       "96    Yes, by 5.9E+03  \n",
       "0     Yes, by 4.1E+03  \n",
       "644   Yes, by 2.9E+03  \n",
       "201   Yes, by 2.4E+03  \n",
       "1787  Yes, by 2.2E+03  "
      ]
     },
     "execution_count": 122,
     "metadata": {},
     "output_type": "execute_result"
    }
   ],
   "source": [
    "# Re-sort the dataset based on number of comments.\n",
    "commented_talks = ted_talks.sort_values(by='comments',ascending=False)[['main_speaker','name','tags','views','comments']]\n",
    "commented_talks.reset_index(drop=True)\n",
    "\n",
    "# We can use the function we created earlier to determine which values within the 'comments' column are considered outliers.\n",
    "\n",
    "def outliertest(value, col_name):\n",
    "    from decimal import Decimal\n",
    "    \n",
    "    upper_q = np.percentile(ted_talks[col_name],75)\n",
    "    IQR = upper_q - np.percentile(ted_talks[col_name],25)\n",
    "\n",
    "    if value > (upper_q + (1.5*IQR)):\n",
    "        excess = value-(upper_q + (1.5*IQR))\n",
    "        excess_sn = '%.1E' % Decimal(excess)\n",
    "        return 'Yes, by ' + str(excess_sn)\n",
    "    else:\n",
    "        return 'No'\n",
    "\n",
    "commented_talks['Outlier?'] = commented_talks['comments'].apply(outliertest, col_name='comments')\n",
    "commented_talks.head(5)"
   ]
  },
  {
   "cell_type": "markdown",
   "metadata": {},
   "source": [
    "After re-sorting our dataset by 'comments' and filtering it down to the talk name, main speaker, tags, and comments, we now have the top 5 most most commented-on TED Talks of all time:\n",
    "\n",
    "    * \"Militant atheism\" by Richard Dawkins\n",
    "    * \"Do schools kill creativity?\" by Ken Robinson\n",
    "    * \"Science can answer moral questions\" by Sam Harris\n",
    "    * \"My stroke of insight\" by Jill Bolte Taylor\n",
    "    * \"How do you explain consciousness?\" by David Chalmers\n",
    "    \n",
    "Note that only one top 5 most viewed talks, \"Do schools kill creativity?\" by Ken Robinson, is also among the most commented-on talks. Additionally, the 'tags' from this top 5 are notably different than those from the most popular top 5. Whereas the most viewed videos' tags were associated with behavioral psychology and sociology, the most commented-on talks tags' largely have to do with existential psychology and philosophy. Given that discussions regarding existential belief and human consciousness are prone to debate, it makes sense that these videos would receive the most comments.\n",
    "\n",
    "Now that we know the most viewed and commented-on videos, let's briefly examine the correlation between 'views' and 'comments.' We can do this by using both a scatterplot of the two variables, as well as by calculating the Pearson correlation coefficient."
   ]
  },
  {
   "cell_type": "code",
   "execution_count": 134,
   "metadata": {},
   "outputs": [
    {
     "data": {
      "image/png": "[encoded data removed]",
      "text/plain": [
       "<matplotlib.figure.Figure at 0x1f1d8587cc0>"
      ]
     },
     "metadata": {},
     "output_type": "display_data"
    },
    {
     "data": {
      "text/html": [
       "<div>\n",
       "<style>\n",
       "    .dataframe thead tr:only-child th {\n",
       "        text-align: right;\n",
       "    }\n",
       "\n",
       "    .dataframe thead th {\n",
       "        text-align: left;\n",
       "    }\n",
       "\n",
       "    .dataframe tbody tr th {\n",
       "        vertical-align: top;\n",
       "    }\n",
       "</style>\n",
       "<table border=\"1\" class=\"dataframe\">\n",
       "  <thead>\n",
       "    <tr style=\"text-align: right;\">\n",
       "      <th></th>\n",
       "      <th>comments</th>\n",
       "      <th>duration</th>\n",
       "      <th>film_date</th>\n",
       "      <th>languages</th>\n",
       "      <th>num_speaker</th>\n",
       "      <th>published_date</th>\n",
       "      <th>views</th>\n",
       "      <th>views_adj</th>\n",
       "    </tr>\n",
       "  </thead>\n",
       "  <tbody>\n",
       "    <tr>\n",
       "      <th>comments</th>\n",
       "      <td>1.000000</td>\n",
       "      <td>0.140694</td>\n",
       "      <td>-0.133303</td>\n",
       "      <td>0.318284</td>\n",
       "      <td>-0.035489</td>\n",
       "      <td>-0.185936</td>\n",
       "      <td>0.530939</td>\n",
       "      <td>0.530939</td>\n",
       "    </tr>\n",
       "    <tr>\n",
       "      <th>duration</th>\n",
       "      <td>0.140694</td>\n",
       "      <td>1.000000</td>\n",
       "      <td>-0.242941</td>\n",
       "      <td>-0.295681</td>\n",
       "      <td>0.022257</td>\n",
       "      <td>-0.166324</td>\n",
       "      <td>0.048740</td>\n",
       "      <td>0.048740</td>\n",
       "    </tr>\n",
       "    <tr>\n",
       "      <th>film_date</th>\n",
       "      <td>-0.133303</td>\n",
       "      <td>-0.242941</td>\n",
       "      <td>1.000000</td>\n",
       "      <td>-0.061957</td>\n",
       "      <td>0.040227</td>\n",
       "      <td>0.902565</td>\n",
       "      <td>0.006447</td>\n",
       "      <td>0.006447</td>\n",
       "    </tr>\n",
       "    <tr>\n",
       "      <th>languages</th>\n",
       "      <td>0.318284</td>\n",
       "      <td>-0.295681</td>\n",
       "      <td>-0.061957</td>\n",
       "      <td>1.000000</td>\n",
       "      <td>-0.063100</td>\n",
       "      <td>-0.171836</td>\n",
       "      <td>0.377623</td>\n",
       "      <td>0.377623</td>\n",
       "    </tr>\n",
       "    <tr>\n",
       "      <th>num_speaker</th>\n",
       "      <td>-0.035489</td>\n",
       "      <td>0.022257</td>\n",
       "      <td>0.040227</td>\n",
       "      <td>-0.063100</td>\n",
       "      <td>1.000000</td>\n",
       "      <td>0.049240</td>\n",
       "      <td>-0.026389</td>\n",
       "      <td>-0.026389</td>\n",
       "    </tr>\n",
       "    <tr>\n",
       "      <th>published_date</th>\n",
       "      <td>-0.185936</td>\n",
       "      <td>-0.166324</td>\n",
       "      <td>0.902565</td>\n",
       "      <td>-0.171836</td>\n",
       "      <td>0.049240</td>\n",
       "      <td>1.000000</td>\n",
       "      <td>-0.017920</td>\n",
       "      <td>-0.017920</td>\n",
       "    </tr>\n",
       "    <tr>\n",
       "      <th>views</th>\n",
       "      <td>0.530939</td>\n",
       "      <td>0.048740</td>\n",
       "      <td>0.006447</td>\n",
       "      <td>0.377623</td>\n",
       "      <td>-0.026389</td>\n",
       "      <td>-0.017920</td>\n",
       "      <td>1.000000</td>\n",
       "      <td>1.000000</td>\n",
       "    </tr>\n",
       "    <tr>\n",
       "      <th>views_adj</th>\n",
       "      <td>0.530939</td>\n",
       "      <td>0.048740</td>\n",
       "      <td>0.006447</td>\n",
       "      <td>0.377623</td>\n",
       "      <td>-0.026389</td>\n",
       "      <td>-0.017920</td>\n",
       "      <td>1.000000</td>\n",
       "      <td>1.000000</td>\n",
       "    </tr>\n",
       "  </tbody>\n",
       "</table>\n",
       "</div>"
      ],
      "text/plain": [
       "                comments  duration  film_date  languages  num_speaker  \\\n",
       "comments        1.000000  0.140694  -0.133303   0.318284    -0.035489   \n",
       "duration        0.140694  1.000000  -0.242941  -0.295681     0.022257   \n",
       "film_date      -0.133303 -0.242941   1.000000  -0.061957     0.040227   \n",
       "languages       0.318284 -0.295681  -0.061957   1.000000    -0.063100   \n",
       "num_speaker    -0.035489  0.022257   0.040227  -0.063100     1.000000   \n",
       "published_date -0.185936 -0.166324   0.902565  -0.171836     0.049240   \n",
       "views           0.530939  0.048740   0.006447   0.377623    -0.026389   \n",
       "views_adj       0.530939  0.048740   0.006447   0.377623    -0.026389   \n",
       "\n",
       "                published_date     views  views_adj  \n",
       "comments             -0.185936  0.530939   0.530939  \n",
       "duration             -0.166324  0.048740   0.048740  \n",
       "film_date             0.902565  0.006447   0.006447  \n",
       "languages            -0.171836  0.377623   0.377623  \n",
       "num_speaker           0.049240 -0.026389  -0.026389  \n",
       "published_date        1.000000 -0.017920  -0.017920  \n",
       "views                -0.017920  1.000000   1.000000  \n",
       "views_adj            -0.017920  1.000000   1.000000  "
      ]
     },
     "execution_count": 134,
     "metadata": {},
     "output_type": "execute_result"
    }
   ],
   "source": [
    "# Plot a scatterplot of 'views' versus 'comments.'\n",
    "\n",
    "plt.figure()\n",
    "plt.scatter(ted_talks['views_adj'],ted_talks['comments'])\n",
    "plt.title('TED Talks: Views vs Comments')\n",
    "plt.xlabel('Views (millions)')\n",
    "plt.ylabel('Comments')\n",
    "plt.show()\n",
    "\n",
    "# Calculate the Pearson correlation coefficient.\n",
    "ted_talks.corr()"
   ]
  },
  {
   "cell_type": "markdown",
   "metadata": {},
   "source": [
    "The cluster of data points in our scatterplot suggests the magnitude of the relationship between 'views' and 'comments' to be moderate to high, but the nature and direction of the relationship remain hazy. A Pearson correlation coefficient of 0.53 confirms that the magnitude of the relationship is moderate, and that the the two variables are positively correlated (although the relationship does not appear to be linear in nature).\n",
    "\n",
    "The moderate, positive relationship between number of views and number of comments suggests that the more views a video receives, the more comments it is likely to get. However, as our outliers demonstrate, this is not always the case; there are several videos that receive several thousand more views than average while generating few comments, and vice-versa. Given the variety of tags the top most viewed and most commented-on videos carry, it appears that the subject matter of a video is a stronger predictor of view and comment counts. I plan on testing this hypothesis in the future."
   ]
  }
 ],
 "metadata": {
  "kernelspec": {
   "display_name": "Python 3",
   "language": "python",
   "name": "python3"
  },
  "language_info": {
   "codemirror_mode": {
    "name": "ipython",
    "version": 3
   },
   "file_extension": ".py",
   "mimetype": "text/x-python",
   "name": "python",
   "nbconvert_exporter": "python",
   "pygments_lexer": "ipython3",
   "version": "3.6.3"
  }
 },
 "nbformat": 4,
 "nbformat_minor": 2
}
